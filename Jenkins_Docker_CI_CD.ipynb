{
 "cells": [
  {
   "cell_type": "markdown",
   "metadata": {},
   "source": [
    "# Basic ML Ops For REST APIs With Docker And Jenkins"
   ]
  },
  {
   "cell_type": "markdown",
   "metadata": {},
   "source": [
    "> by Thom Ives, Ph.D."
   ]
  },
  {
   "cell_type": "markdown",
   "metadata": {},
   "source": [
    "![Integrated Machine Learning & AI](https://dagshub.com/ThomIves/PyTorch_Journey/raw/aefdfaa0c20cdff3c13e8238f1cb93bec72eb461/IMLAI_1700x500_Inv.png)"
   ]
  },
  {
   "cell_type": "markdown",
   "metadata": {},
   "source": [
    "## Overview"
   ]
  },
  {
   "cell_type": "markdown",
   "metadata": {},
   "source": [
    "1. Develop Your REST API Using FastAPI On Your **Dev** System\n",
    "1. Ensure That You Have Docker Installed And Install It If You Do Not\n",
    "1. Install The Latest Jenkins LTS Version On Your **Host** System Using The \"Generic Java Package (.war)\" Method\n",
    "1. Create A GitHub Repo To Hold Your Code\n",
    "    1. Your Dev System Will Hold A Clone\n",
    "    1. Make Changes / Improvements And Commit And Push From Your **Dev** System\n",
    "1. Clone Your Initial Code To Your **Host** System In The Correct Location For Working With Jenkins\n",
    "1. Create A Docker Image And Run Its Container For Your API\n",
    "    1. Write Your Dockerfile That Will Create Your Image\n",
    "    1. Build Your Image\n",
    "    1. Run Your Image In A Docker Container With A Directory From Your Machine Mounted To Your Container\n",
    "1. Create A Jenkins Pipeline That Will:\n",
    "    1. Update The Code On Your **Host** System\n",
    "    1. When You Push Changes From Your **Dev** System\n",
    "    1. THIS Is Our SIMPLE CI-CD For REST APIs"
   ]
  },
  {
   "cell_type": "markdown",
   "metadata": {},
   "source": [
    "## Develop Your REST API Using FastAPI On Your **Dev** System"
   ]
  },
  {
   "cell_type": "markdown",
   "metadata": {},
   "source": [
    "There is an initial repo for this [HERE](https://dagshub.com/ThomIves/Basic_Model_Serving_With_FastAPI) called \"Basic_Model_Serving_With_FastAPI\".\n",
    "\n",
    "Let's go look at it."
   ]
  },
  {
   "cell_type": "markdown",
   "metadata": {},
   "source": [
    "## Ensure That You Have Docker Installed"
   ]
  },
  {
   "cell_type": "markdown",
   "metadata": {},
   "source": [
    "Please see my [repository](https://dagshub.com/ThomIves/Docker_Mastery) covering my studies on Docker, which include how to install it."
   ]
  },
  {
   "cell_type": "markdown",
   "metadata": {},
   "source": [
    "## Install The Latest Jenkins LTS Version On Your HOST System<br>Using The \"Generic Java Package (.war)\" Method"
   ]
  },
  {
   "cell_type": "markdown",
   "metadata": {},
   "source": [
    "Go [HERE](https://www.jenkins.io/download/) and read carefully. \n",
    "The simplest and recommended way to install Jenkins is with \"Generic Java Package (.war)\" described on that page."
   ]
  },
  {
   "cell_type": "markdown",
   "metadata": {},
   "source": [
    "When you reboot, and you want to restart jenkins, open a terminal and type `java -jar jenkins.war`.\n",
    "Better yet, put that in a shell file in Linux (batch file on Windows, and I am guessing shell file on Mac) and name it something clear to you.\n",
    "I have a start-jenkins.sh file with the contents `java -jar jenkins.war`.\n",
    "You could then even call this start Jenkins type file from one of your startup scripts.\n",
    "When you want to use Jenkins, you open your browser and go to `localhost:8080 or whatever you've set your port for Jenkins to run on. \n",
    "How do you specify a different port if you need 8080 for something else?\n",
    "You use `java -jar jenkins.war --httpPort=[port number]`.\n",
    "\n",
    "[Install And Run Jenkins With war File](https://www.jenkins.io/doc/book/installing/war-file/)\n",
    "[How To Change Port For Jenkins](https://phoenixnap.com/kb/jenkins-change-port)"
   ]
  },
  {
   "cell_type": "markdown",
   "metadata": {},
   "source": [
    "But Wait!\n",
    "What to do about that terminal that started Jenkins?\n",
    "I might close it, and then I interrupt my work!\n",
    "And where is best to store my jenkins.war file?\n",
    "You do you, but I put my jenkins.war file in `/usr/share/jenkins`.\n",
    "I also added `nohup` to the front of my shell script command. \n",
    "So now that shell script has `nohup java -jar /usr/share/jenkins/jenkins.war`.\n",
    "I can then close my terminal after I start it manually, or not worry about it after it starts from my `~/.bashrc` file."
   ]
  },
  {
   "cell_type": "markdown",
   "metadata": {},
   "source": [
    "## Create A GitHub Repo To Hold Your Code"
   ]
  },
  {
   "cell_type": "markdown",
   "metadata": {},
   "source": [
    "![GitHub Repo For CI-CD](GitHub_Repo.png)"
   ]
  },
  {
   "cell_type": "markdown",
   "metadata": {},
   "source": [
    "### Your Dev System Will Hold A Clone"
   ]
  },
  {
   "cell_type": "markdown",
   "metadata": {},
   "source": [
    "__Show Development File Manager__\n",
    "\n",
    "__Make Changes / Improvements And Commit And Push From Your **Dev** System__"
   ]
  },
  {
   "cell_type": "markdown",
   "metadata": {},
   "source": [
    "## Clone Your Initial Code To Your HOST System In The Correct Location For Working With Jenkins"
   ]
  },
  {
   "cell_type": "markdown",
   "metadata": {},
   "source": [
    "__Show Jenkins Clone Of Code__\n",
    "\n",
    "__We Also Build And Run Our Docker Image And Container From The Host__"
   ]
  },
  {
   "cell_type": "markdown",
   "metadata": {},
   "source": [
    "## Create A Docker Image And Run Its Container For Your API"
   ]
  },
  {
   "cell_type": "markdown",
   "metadata": {},
   "source": [
    "### Write Your Dockerfile That Will Create Your Image"
   ]
  },
  {
   "cell_type": "markdown",
   "metadata": {},
   "source": [
    "FROM python:3.8\n",
    "\n",
    "WORKDIR /src\n",
    "\n",
    "COPY ./requirements.txt /src\n",
    "COPY ./main.py /src\n",
    "COPY ./Linear_Regression_Model.pkl /src\n",
    "\n",
    "RUN pip install -r requirements.txt\n",
    "\n",
    "EXPOSE 8000:8000\n",
    "\n",
    "CMD [\"uvicorn\", \"Run_Model_API:app\", \"--reload\", \"--host\", \"0.0.0.0\"]"
   ]
  },
  {
   "cell_type": "markdown",
   "metadata": {},
   "source": [
    "### Build Your Image"
   ]
  },
  {
   "cell_type": "markdown",
   "metadata": {},
   "source": [
    "`$ sudo docker image build . -t api:1`"
   ]
  },
  {
   "cell_type": "markdown",
   "metadata": {},
   "source": [
    "### Run Your Image In A Docker Container With A Directory From Your Machine Mounted To Your Container"
   ]
  },
  {
   "cell_type": "markdown",
   "metadata": {},
   "source": [
    "`$ sudo docker run -d -p 8000:8000 -v /home/thom/.jenkins/workspace/Model_Serving_With_FastAPI/src:/src api:1`"
   ]
  },
  {
   "cell_type": "markdown",
   "metadata": {},
   "source": [
    "## A Simpler Example For CI CD"
   ]
  },
  {
   "cell_type": "markdown",
   "metadata": {},
   "source": [
    "### The FastAPI REST API Code - main.py"
   ]
  },
  {
   "cell_type": "code",
   "execution_count": null,
   "metadata": {},
   "outputs": [],
   "source": [
    "# main.py\n",
    "from fastapi import FastAPI\n",
    "\n",
    "app = FastAPI()\n",
    "\n",
    "\n",
    "@app.get(\"/\")\n",
    "async def root():\n",
    "    return {\"message\": \"This is a simple API.\"}\n"
   ]
  },
  {
   "cell_type": "markdown",
   "metadata": {},
   "source": [
    "### The Dockefile"
   ]
  },
  {
   "cell_type": "code",
   "execution_count": null,
   "metadata": {},
   "outputs": [],
   "source": [
    "FROM python:3.8\n",
    "\n",
    "WORKDIR /src\n",
    "\n",
    "COPY ./requirements.txt /src\n",
    "COPY ./main.py /src\n",
    "\n",
    "RUN pip install -r requirements.txt\n",
    "\n",
    "EXPOSE 8000:8000\n",
    "\n",
    "CMD [\"uvicorn\", \"main:app\", \"--reload\", \"--host\", \"0.0.0.0\"]\n"
   ]
  },
  {
   "cell_type": "markdown",
   "metadata": {},
   "source": [
    "### The requirements.txt File"
   ]
  },
  {
   "cell_type": "code",
   "execution_count": null,
   "metadata": {},
   "outputs": [],
   "source": [
    "fastapi\n",
    "uvicorn"
   ]
  },
  {
   "cell_type": "markdown",
   "metadata": {},
   "source": [
    "### The Jenkins File"
   ]
  },
  {
   "cell_type": "code",
   "execution_count": null,
   "metadata": {},
   "outputs": [],
   "source": [
    "pipeline {\n",
    "    agent any \n",
    "    stages {\n",
    "        stage (\"Go To Git Directory\"){\n",
    "            steps {\n",
    "                sh \"cd /home/thom/.jenkins/workspace/Docker_Jenkins_Cloud_API\"\n",
    "            }\n",
    "        }\n",
    "        stage (\"Pull Changes From Repo\"){\n",
    "            steps {\n",
    "                script{\n",
    "                    checkout([$class: 'GitSCM', branches: [[name: 'master']], extensions: [], userRemoteConfigs: [[url: 'https://github.com/ThomIves/Docker_Jenkins_Cloud_API.git']]])\n",
    "                }\n",
    "            }\n",
    "        }\n",
    "        stage (\"Report Status\"){\n",
    "            steps {\n",
    "                echo \"Updates Complete.\"\n",
    "            }\n",
    "        }\n",
    "    }\n",
    "}\n"
   ]
  },
  {
   "cell_type": "markdown",
   "metadata": {},
   "source": [
    "## Summary"
   ]
  },
  {
   "cell_type": "markdown",
   "metadata": {},
   "source": [
    "1. Develop REST API With FastAPI\n",
    "1. Dockerize Your API Or Not - Serve It Either Way From A Host - On Prem Or From Cloud VM\n",
    "1. Setup Jenkins To Watch Your Cloud Git Repo To Update Your Host Files\n",
    "1. Changes Will Pass To Controlling Directory On Host\n",
    "1. Uvicorn Will See Changes And Restart"
   ]
  }
 ],
 "metadata": {
  "kernelspec": {
   "display_name": "Python 3.8.10 ('fastapi': venv)",
   "language": "python",
   "name": "python3"
  },
  "language_info": {
   "name": "python",
   "version": "3.8.10"
  },
  "orig_nbformat": 4,
  "vscode": {
   "interpreter": {
    "hash": "de1d84beefbb56e9d9dd7aaabeb8da6a2ee7d1b2e4a2c393debeacdb23bd9513"
   }
  }
 },
 "nbformat": 4,
 "nbformat_minor": 2
}
